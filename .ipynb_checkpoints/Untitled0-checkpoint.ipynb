{
 "metadata": {
  "name": "",
  "signature": "sha256:cbe9c9e48dda79899bdb3e7991a856e2b8af4f273dfe5e30c71306383304c629"
 },
 "nbformat": 3,
 "nbformat_minor": 0,
 "worksheets": []
}